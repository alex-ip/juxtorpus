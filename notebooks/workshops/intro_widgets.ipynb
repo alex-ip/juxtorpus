{
 "cells": [
  {
   "cell_type": "code",
   "execution_count": null,
   "id": "ee0afbae-41df-4a37-9b7e-ffdb01558130",
   "metadata": {},
   "outputs": [],
   "source": [
    "import os\n",
    "while  not 'juxtorpus' in os.listdir():\n",
    "    os.chdir('../')\n",
    "assert 'juxtorpus' in os.listdir(), f\"Working directory should be at juxtorpus. But at {os.getcwd()}\"\n",
    "f\"Working directory: {os.getcwd()}\""
   ]
  },
  {
   "cell_type": "markdown",
   "id": "8456ac04-3b55-43a5-a1b2-528be226da2d",
   "metadata": {
    "tags": []
   },
   "source": [
    "# Intro to Juxtorpus\n",
    "\n",
    "Juxtorpus is a project that is designed for you to do corpus analysis work in an easy and seamless manner.\n",
    "\n",
    "\n",
    "The main concept is to have a 'Corpus' unit that you can explore by yourself and pass it along to other corpus analysis tools that are being developed.\n",
    "A major feature of the Corpus unit is the ability to slice them freely depending on your meta data.\n",
    "\n",
    "Juxtorpus is one of those tools that you can pass a Corpus unit into to *juxtapose* two corpus."
   ]
  },
  {
   "cell_type": "markdown",
   "id": "35e8312f-1e9b-4c71-93b6-3bafd171a5bc",
   "metadata": {},
   "source": [
    "### This Workshop:\n",
    "1. Invoking the Corpora Widget\n",
    "2. Creating a corpus and storing it in a corpora.\n",
    "3. Slicing the corpus into 2 different subcorpus.\n",
    "4. Putting the two subcorpus into Jux for comparisons."
   ]
  },
  {
   "cell_type": "markdown",
   "id": "7400c0ab-b609-4c5c-a5ac-10b8faccbd64",
   "metadata": {
    "tags": []
   },
   "source": [
    "### 1. Creating a Corpus\n",
    "There are two ways of creating a Corpus and in this workshop we will be creating one using some user-friendly widgets.\n",
    "\n",
    "When using widgets, it is recommended that you build and store them in a `Corpora`.\n",
    "\n",
    "Let's create a corpora and invoke `widget()`.\n",
    "\n",
    "*Quick Tip:*</br>\n",
    "There are a quite a few classes that you can call `widget()` and you can expect an interactive widget to appear in the output cell. </br>There is also a `render()` if available, which would output a non-interactive visualisation."
   ]
  },
  {
   "cell_type": "markdown",
   "id": "9af82c06-3243-4bef-af5f-44ed123567e5",
   "metadata": {},
   "source": [
    "#### Widget Steps:\n",
    "1. Run the cell and you should see a button 'Show Builder'. Click on it.\n",
    "2. The widget that appeared is the CorpusBuilder (with FileUpload) widget.\n",
    "3. Upload the file 'Sample_Auspol_Tweets.csv'. Select it and Click 'Confirm' on your right.\n",
    "4. Use the following configurations:\n",
    "    + text: document, text\n",
    "    + created_at: meta, datetime\n",
    "    + lang: meta, category\n",
    "5. Deselect all the others.\n",
    "6. (Optional) Enter a name for the corpus. If not, one will be generated for you.\n",
    "7. Click Build. Wait for 'Done' on the button.\n",
    "8. You should now see a selectable corpus in the Corpora panel below.\n",
    "9. Select it. A slicer panel will appear.\n",
    "10. Select a datetime range for *created_at* and press the 'Add Operation' button on the right.\n",
    "11. You will see the operation panel pop down with the one you just created selected.\n",
    "11. Select a language category for *lang*.\n",
    "12. Press Slice button. (Note: this is disabled if your subcorpus size is 0 after slicing.)\n",
    "13. You should now see your subcorpus appear in the Corpora panel."
   ]
  },
  {
   "cell_type": "code",
   "execution_count": null,
   "id": "b69fdf86-b178-4fde-865c-489d6f981eba",
   "metadata": {
    "tags": []
   },
   "outputs": [],
   "source": [
    "from juxtorpus.corpus import Corpora\n",
    "\n",
    "corpora = Corpora()\n",
    "corpora.widget()"
   ]
  },
  {
   "cell_type": "code",
   "execution_count": null,
   "id": "1b038bc9-2c46-440b-b790-5b3f36a39d19",
   "metadata": {},
   "outputs": [],
   "source": [
    "name = 'tart-distance'\n",
    "corpus = corpora.get(name)\n",
    "assert corpus is not None, 'Please check corpus name'\n",
    "\n",
    "corpus.viz.wordcloud(max_words=50, metric='tfidf', word_type='word') # try tf, tfidf ; try word, mention, hashtag"
   ]
  },
  {
   "cell_type": "code",
   "execution_count": null,
   "id": "62c8adb1-1ee1-455e-97d5-06cbc77416a9",
   "metadata": {},
   "outputs": [],
   "source": [
    "corpus.viz.timeline('created_at', freq='1w')"
   ]
  },
  {
   "cell_type": "markdown",
   "id": "a4ff009b-d907-4b7f-9e62-f3204d2c09bf",
   "metadata": {},
   "source": [
    "Currently, corpus.viz only features wordcloud and timeline, but more is expected to come!"
   ]
  },
  {
   "cell_type": "markdown",
   "id": "009162d7-4335-4fd0-907b-6eeb9553e032",
   "metadata": {
    "tags": []
   },
   "source": [
    "### Jux"
   ]
  },
  {
   "cell_type": "code",
   "execution_count": null,
   "id": "f93dfaea-6c46-418c-87ed-0eee1310d743",
   "metadata": {},
   "outputs": [],
   "source": [
    "corpora.render()"
   ]
  },
  {
   "cell_type": "code",
   "execution_count": null,
   "id": "d83724ac-eae0-4565-ab40-9025bb3a46c4",
   "metadata": {},
   "outputs": [],
   "source": [
    "from juxtorpus import Jux\n",
    "\n",
    "name0 = 'chocolaty-deadhead'\n",
    "name1 = 'raw-swift'\n",
    "\n",
    "pair = (corpora.get(name0), corpora.get(name1))\n",
    "for single in pair: assert single is not None, \"At least one of the corpus does not exist in Corpora.\"\n",
    "\n",
    "jux = Jux(*pair)"
   ]
  },
  {
   "cell_type": "code",
   "execution_count": null,
   "id": "669131e1-b777-4e4a-817c-2e6a3279ea60",
   "metadata": {},
   "outputs": [],
   "source": [
    "jux.polarity.wordcloud('log_likelihood')   # try: tf, tfidf, log_likelihood"
   ]
  },
  {
   "cell_type": "code",
   "execution_count": null,
   "id": "7d1ddc33-a747-41e3-ad77-6151c2c5efaa",
   "metadata": {},
   "outputs": [],
   "source": []
  }
 ],
 "metadata": {
  "kernelspec": {
   "display_name": "Python 3 (ipykernel)",
   "language": "python",
   "name": "python3"
  },
  "language_info": {
   "codemirror_mode": {
    "name": "ipython",
    "version": 3
   },
   "file_extension": ".py",
   "mimetype": "text/x-python",
   "name": "python",
   "nbconvert_exporter": "python",
   "pygments_lexer": "ipython3",
   "version": "3.9.16"
  }
 },
 "nbformat": 4,
 "nbformat_minor": 5
}
