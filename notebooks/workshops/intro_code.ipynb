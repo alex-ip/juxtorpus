{
 "cells": [
  {
   "cell_type": "code",
   "execution_count": 1,
   "id": "8eaa94c6-05e1-4a0b-b762-3136fd62132c",
   "metadata": {},
   "outputs": [
    {
     "data": {
      "text/plain": [
       "'Working directory: /Users/hcha9747/workspace/juxtorpus'"
      ]
     },
     "execution_count": 1,
     "metadata": {},
     "output_type": "execute_result"
    }
   ],
   "source": [
    "import os\n",
    "while  not 'juxtorpus' in os.listdir():\n",
    "    os.chdir('../')\n",
    "assert 'juxtorpus' in os.listdir(), f\"Working directory should be at juxtorpus. But at {os.getcwd()}\"\n",
    "f\"Working directory: {os.getcwd()}\""
   ]
  },
  {
   "cell_type": "markdown",
   "id": "5b0cd12f-6c9e-4dfb-84f6-bf4f1871d17a",
   "metadata": {},
   "source": [
    "# Intro to Juxtorpus\n",
    "Juxtorpus is a project that is designed for you to do corpus analysis work in an easy and seamless manner.\n",
    "\n",
    "\n",
    "The main concept is to have a 'Corpus' unit that you can explore by yourself and pass it along to other corpus analysis tools that are being developed.\n",
    "A major feature of the Corpus unit is the ability to slice them freely depending on your meta data.\n",
    "\n",
    "Juxtorpus is one of those tools that you can pass a Corpus unit into to *juxtapose* two corpus."
   ]
  },
  {
   "cell_type": "markdown",
   "id": "35916afa-3377-45b0-a4b0-7b979bd85c54",
   "metadata": {},
   "source": [
    "### This Workshop:\n",
    "1. Create a Corpus using the CorpusBuilder\n",
    "2. Create a Corpus from a dataframe\n",
    "3. Slicing the Corpus.\n",
    "4. Referencing parent Corpus from subcorpus.\n",
    "5. Adding the corpus into a Corpora."
   ]
  },
  {
   "cell_type": "markdown",
   "id": "c4b717e3-f22f-4610-9c1b-c0ffb4ff550c",
   "metadata": {},
   "source": [
    "### 1. Creating a Corpus using CorpusBuilder"
   ]
  },
  {
   "cell_type": "code",
   "execution_count": 2,
   "id": "19244506-2faa-4cc2-90a2-d72932b84e77",
   "metadata": {},
   "outputs": [
    {
     "data": {
      "text/html": [
       "<div>\n",
       "<style scoped>\n",
       "    .dataframe tbody tr th:only-of-type {\n",
       "        vertical-align: middle;\n",
       "    }\n",
       "\n",
       "    .dataframe tbody tr th {\n",
       "        vertical-align: top;\n",
       "    }\n",
       "\n",
       "    .dataframe thead th {\n",
       "        text-align: right;\n",
       "    }\n",
       "</style>\n",
       "<table border=\"1\" class=\"dataframe\">\n",
       "  <thead>\n",
       "    <tr style=\"text-align: right;\">\n",
       "      <th>All Columns</th>\n",
       "      <th>created_at</th>\n",
       "      <th>from_user_name</th>\n",
       "      <th>id</th>\n",
       "      <th>lang</th>\n",
       "      <th>location</th>\n",
       "      <th>possibly_sensitive</th>\n",
       "      <th>retweet_count</th>\n",
       "      <th>source</th>\n",
       "      <th>text</th>\n",
       "      <th>tweet_type</th>\n",
       "    </tr>\n",
       "  </thead>\n",
       "  <tbody>\n",
       "    <tr>\n",
       "      <th>Text</th>\n",
       "      <td></td>\n",
       "      <td></td>\n",
       "      <td></td>\n",
       "      <td></td>\n",
       "      <td></td>\n",
       "      <td></td>\n",
       "      <td></td>\n",
       "      <td></td>\n",
       "      <td></td>\n",
       "      <td></td>\n",
       "    </tr>\n",
       "    <tr>\n",
       "      <th>Meta</th>\n",
       "      <td></td>\n",
       "      <td></td>\n",
       "      <td></td>\n",
       "      <td></td>\n",
       "      <td></td>\n",
       "      <td></td>\n",
       "      <td></td>\n",
       "      <td></td>\n",
       "      <td></td>\n",
       "      <td></td>\n",
       "    </tr>\n",
       "    <tr>\n",
       "      <th>Dtype</th>\n",
       "      <td></td>\n",
       "      <td></td>\n",
       "      <td></td>\n",
       "      <td></td>\n",
       "      <td></td>\n",
       "      <td></td>\n",
       "      <td></td>\n",
       "      <td></td>\n",
       "      <td></td>\n",
       "      <td></td>\n",
       "    </tr>\n",
       "  </tbody>\n",
       "</table>\n",
       "</div>"
      ],
      "text/plain": [
       "All Columns created_at from_user_name id lang location possibly_sensitive  \\\n",
       "Text                                                                        \n",
       "Meta                                                                        \n",
       "Dtype                                                                       \n",
       "\n",
       "All Columns retweet_count source text tweet_type  \n",
       "Text                                              \n",
       "Meta                                              \n",
       "Dtype                                             "
      ]
     },
     "execution_count": 2,
     "metadata": {},
     "output_type": "execute_result"
    }
   ],
   "source": [
    "from juxtorpus.corpus import Corpus, CorpusBuilder\n",
    "\n",
    "path = './notebooks/demos/Sample_Auspol_Tweets.xlsx'\n",
    "builder = CorpusBuilder(path)\n",
    "builder.summary()   # Let's look at the summary of the builder"
   ]
  },
  {
   "cell_type": "code",
   "execution_count": 3,
   "id": "3c291e88-f0d2-4767-9858-45de4029c6bc",
   "metadata": {},
   "outputs": [
    {
     "data": {
      "text/html": [
       "<div>\n",
       "<style scoped>\n",
       "    .dataframe tbody tr th:only-of-type {\n",
       "        vertical-align: middle;\n",
       "    }\n",
       "\n",
       "    .dataframe tbody tr th {\n",
       "        vertical-align: top;\n",
       "    }\n",
       "\n",
       "    .dataframe thead th {\n",
       "        text-align: right;\n",
       "    }\n",
       "</style>\n",
       "<table border=\"1\" class=\"dataframe\">\n",
       "  <thead>\n",
       "    <tr style=\"text-align: right;\">\n",
       "      <th></th>\n",
       "      <th>id</th>\n",
       "      <th>created_at</th>\n",
       "      <th>from_user_name</th>\n",
       "      <th>source</th>\n",
       "      <th>location</th>\n",
       "      <th>text</th>\n",
       "      <th>retweet_count</th>\n",
       "      <th>lang</th>\n",
       "      <th>possibly_sensitive</th>\n",
       "      <th>tweet_type</th>\n",
       "    </tr>\n",
       "  </thead>\n",
       "  <tbody>\n",
       "    <tr>\n",
       "      <th>0</th>\n",
       "      <td>1403753011973956096</td>\n",
       "      <td>2021-06-12 16:36:13</td>\n",
       "      <td>mydirtyhotel</td>\n",
       "      <td>NaN</td>\n",
       "      <td>Toronto, CANADA</td>\n",
       "      <td>The latest My Dirty Hotel! https://t.co/9EpRbf...</td>\n",
       "      <td>0</td>\n",
       "      <td>en</td>\n",
       "      <td>0</td>\n",
       "      <td>Original</td>\n",
       "    </tr>\n",
       "    <tr>\n",
       "      <th>1</th>\n",
       "      <td>1498336572021772032</td>\n",
       "      <td>2022-02-28 16:37:31</td>\n",
       "      <td>sapienbloom</td>\n",
       "      <td>Twitter for Android</td>\n",
       "      <td>NaN</td>\n",
       "      <td>RT @SaintFrankly: Good use of @ScottMorrisonMP...</td>\n",
       "      <td>0</td>\n",
       "      <td>en</td>\n",
       "      <td>0</td>\n",
       "      <td>Retweet</td>\n",
       "    </tr>\n",
       "    <tr>\n",
       "      <th>2</th>\n",
       "      <td>1481468339885342976</td>\n",
       "      <td>2022-01-13 03:29:11</td>\n",
       "      <td>shayne_chester</td>\n",
       "      <td>Twitter Web App</td>\n",
       "      <td>potts point</td>\n",
       "      <td>RT @cas_bar000: #novaxdjokovic #Asylum #HomeTo...</td>\n",
       "      <td>0</td>\n",
       "      <td>und</td>\n",
       "      <td>1</td>\n",
       "      <td>Retweet</td>\n",
       "    </tr>\n",
       "  </tbody>\n",
       "</table>\n",
       "</div>"
      ],
      "text/plain": [
       "                    id           created_at  from_user_name  \\\n",
       "0  1403753011973956096  2021-06-12 16:36:13    mydirtyhotel   \n",
       "1  1498336572021772032  2022-02-28 16:37:31     sapienbloom   \n",
       "2  1481468339885342976  2022-01-13 03:29:11  shayne_chester   \n",
       "\n",
       "                source         location  \\\n",
       "0                  NaN  Toronto, CANADA   \n",
       "1  Twitter for Android              NaN   \n",
       "2      Twitter Web App      potts point   \n",
       "\n",
       "                                                text  retweet_count lang  \\\n",
       "0  The latest My Dirty Hotel! https://t.co/9EpRbf...              0   en   \n",
       "1  RT @SaintFrankly: Good use of @ScottMorrisonMP...              0   en   \n",
       "2  RT @cas_bar000: #novaxdjokovic #Asylum #HomeTo...              0  und   \n",
       "\n",
       "   possibly_sensitive tweet_type  \n",
       "0                   0   Original  \n",
       "1                   0    Retweet  \n",
       "2                   1    Retweet  "
      ]
     },
     "execution_count": 3,
     "metadata": {},
     "output_type": "execute_result"
    }
   ],
   "source": [
    "builder.head()    # Let's do a preview of the data"
   ]
  },
  {
   "cell_type": "code",
   "execution_count": 4,
   "id": "856d550c-d3e6-4408-98e0-d76d471a4a2c",
   "metadata": {},
   "outputs": [
    {
     "data": {
      "text/html": [
       "<div>\n",
       "<style scoped>\n",
       "    .dataframe tbody tr th:only-of-type {\n",
       "        vertical-align: middle;\n",
       "    }\n",
       "\n",
       "    .dataframe tbody tr th {\n",
       "        vertical-align: top;\n",
       "    }\n",
       "\n",
       "    .dataframe thead th {\n",
       "        text-align: right;\n",
       "    }\n",
       "</style>\n",
       "<table border=\"1\" class=\"dataframe\">\n",
       "  <thead>\n",
       "    <tr style=\"text-align: right;\">\n",
       "      <th>All Columns</th>\n",
       "      <th>created_at</th>\n",
       "      <th>from_user_name</th>\n",
       "      <th>id</th>\n",
       "      <th>lang</th>\n",
       "      <th>location</th>\n",
       "      <th>possibly_sensitive</th>\n",
       "      <th>retweet_count</th>\n",
       "      <th>source</th>\n",
       "      <th>text</th>\n",
       "      <th>tweet_type</th>\n",
       "    </tr>\n",
       "  </thead>\n",
       "  <tbody>\n",
       "    <tr>\n",
       "      <th>Text</th>\n",
       "      <td></td>\n",
       "      <td></td>\n",
       "      <td></td>\n",
       "      <td></td>\n",
       "      <td></td>\n",
       "      <td></td>\n",
       "      <td></td>\n",
       "      <td></td>\n",
       "      <td></td>\n",
       "      <td></td>\n",
       "    </tr>\n",
       "    <tr>\n",
       "      <th>Meta</th>\n",
       "      <td>✅</td>\n",
       "      <td>✅</td>\n",
       "      <td>✅</td>\n",
       "      <td>✅</td>\n",
       "      <td>✅</td>\n",
       "      <td></td>\n",
       "      <td>✅</td>\n",
       "      <td>✅</td>\n",
       "      <td></td>\n",
       "      <td>✅</td>\n",
       "    </tr>\n",
       "    <tr>\n",
       "      <th>Dtype</th>\n",
       "      <td>datetime</td>\n",
       "      <td>str</td>\n",
       "      <td>inferred</td>\n",
       "      <td>category</td>\n",
       "      <td>inferred</td>\n",
       "      <td></td>\n",
       "      <td>int</td>\n",
       "      <td>category</td>\n",
       "      <td></td>\n",
       "      <td>category</td>\n",
       "    </tr>\n",
       "  </tbody>\n",
       "</table>\n",
       "</div>"
      ],
      "text/plain": [
       "All Columns created_at from_user_name        id      lang  location  \\\n",
       "Text                                                                  \n",
       "Meta                 ✅              ✅         ✅         ✅         ✅   \n",
       "Dtype         datetime            str  inferred  category  inferred   \n",
       "\n",
       "All Columns possibly_sensitive retweet_count    source text tweet_type  \n",
       "Text                                                                    \n",
       "Meta                                       ✅         ✅               ✅  \n",
       "Dtype                                    int  category        category  "
      ]
     },
     "execution_count": 4,
     "metadata": {},
     "output_type": "execute_result"
    }
   ],
   "source": [
    "# Now let's add all the meta data we want in our corpus.\n",
    "builder.add_metas('created_at', dtypes='datetime')\n",
    "builder.add_metas(['lang', 'source', 'tweet_type'], dtypes='category')\n",
    "builder.add_metas(['from_user_name', 'retweet_count'], dtypes=['str', 'int'], lazy=False)\n",
    "builder.add_metas('id')  # i.e. dtype is automatic\n",
    "builder.add_metas('location', dtypes=None)  # i.e. dtype is automatic\n",
    "builder.summary()"
   ]
  },
  {
   "cell_type": "code",
   "execution_count": 5,
   "id": "2af19524-b1cd-4270-a273-a7c38a6d8d70",
   "metadata": {},
   "outputs": [],
   "source": [
    "builder.set_document_column('text') # set the document column\n",
    "corpus = builder.build()"
   ]
  },
  {
   "cell_type": "code",
   "execution_count": 6,
   "id": "65013fcb-2df8-4086-9856-3cee044d6ff3",
   "metadata": {},
   "outputs": [
    {
     "data": {
      "text/plain": [
       "'vain-sphere'"
      ]
     },
     "execution_count": 6,
     "metadata": {},
     "output_type": "execute_result"
    }
   ],
   "source": [
    "corpus.name   # a corpus name is randomly generated. You may also use builder.set_name() to define your own."
   ]
  },
  {
   "cell_type": "code",
   "execution_count": 7,
   "id": "ca63ec0f-2708-45ab-bb80-03b2ede9e001",
   "metadata": {},
   "outputs": [
    {
     "data": {
      "text/html": [
       "<div>\n",
       "<style scoped>\n",
       "    .dataframe tbody tr th:only-of-type {\n",
       "        vertical-align: middle;\n",
       "    }\n",
       "\n",
       "    .dataframe tbody tr th {\n",
       "        vertical-align: top;\n",
       "    }\n",
       "\n",
       "    .dataframe thead th {\n",
       "        text-align: right;\n",
       "    }\n",
       "</style>\n",
       "<table border=\"1\" class=\"dataframe\">\n",
       "  <thead>\n",
       "    <tr style=\"text-align: right;\">\n",
       "      <th></th>\n",
       "      <th></th>\n",
       "    </tr>\n",
       "  </thead>\n",
       "  <tbody>\n",
       "    <tr>\n",
       "      <th>Corpus Type</th>\n",
       "      <td>Corpus</td>\n",
       "    </tr>\n",
       "    <tr>\n",
       "      <th>Number of Documents</th>\n",
       "      <td>50000</td>\n",
       "    </tr>\n",
       "    <tr>\n",
       "      <th>Number of Total Words</th>\n",
       "      <td>970725</td>\n",
       "    </tr>\n",
       "    <tr>\n",
       "      <th>Size of Vocabulary</th>\n",
       "      <td>52248</td>\n",
       "    </tr>\n",
       "    <tr>\n",
       "      <th>mean Words per Document</th>\n",
       "      <td>19</td>\n",
       "    </tr>\n",
       "    <tr>\n",
       "      <th>min Words per Document</th>\n",
       "      <td>1</td>\n",
       "    </tr>\n",
       "    <tr>\n",
       "      <th>max Words per Document</th>\n",
       "      <td>68</td>\n",
       "    </tr>\n",
       "    <tr>\n",
       "      <th>metas</th>\n",
       "      <td>created_at, lang, source, tweet_type, id, loca...</td>\n",
       "    </tr>\n",
       "  </tbody>\n",
       "</table>\n",
       "</div>"
      ],
      "text/plain": [
       "                                                                          \n",
       "Corpus Type                                                         Corpus\n",
       "Number of Documents                                                  50000\n",
       "Number of Total Words                                               970725\n",
       "Size of Vocabulary                                                   52248\n",
       "mean Words per Document                                                 19\n",
       "min Words per Document                                                   1\n",
       "max Words per Document                                                  68\n",
       "metas                    created_at, lang, source, tweet_type, id, loca..."
      ]
     },
     "execution_count": 7,
     "metadata": {},
     "output_type": "execute_result"
    }
   ],
   "source": [
    "corpus.summary()"
   ]
  },
  {
   "cell_type": "code",
   "execution_count": 8,
   "id": "6200cba9-bdbe-4f18-8592-cca9bfa1ca61",
   "metadata": {},
   "outputs": [
    {
     "data": {
      "text/plain": [
       "{'created_at': <SeriesMeta [Id: created_at dtype: datetime64[ns]]>,\n",
       " 'lang': <SeriesMeta [Id: lang dtype: category]>,\n",
       " 'source': <SeriesMeta [Id: source dtype: category]>,\n",
       " 'tweet_type': <SeriesMeta [Id: tweet_type dtype: category]>,\n",
       " 'id': <SeriesMeta [Id: id dtype: int64]>,\n",
       " 'location': <SeriesMeta [Id: location dtype: object]>,\n",
       " 'from_user_name': <SeriesMeta [Id: from_user_name dtype: object]>,\n",
       " 'retweet_count': <SeriesMeta [Id: retweet_count dtype: int64]>}"
      ]
     },
     "execution_count": 8,
     "metadata": {},
     "output_type": "execute_result"
    }
   ],
   "source": [
    "corpus.meta  # this can take a bit longer as series are loaded lazily on default (otherwise set lazy=False in add_metas)"
   ]
  },
  {
   "cell_type": "markdown",
   "id": "90dd12db-c875-422e-aa14-e1f563d42bba",
   "metadata": {},
   "source": [
    "### 2. Creating a Corpus from dataframe"
   ]
  },
  {
   "cell_type": "code",
   "execution_count": 9,
   "id": "348d0608-d568-406d-bae4-c78a95695367",
   "metadata": {},
   "outputs": [
    {
     "data": {
      "text/html": [
       "<div>\n",
       "<style scoped>\n",
       "    .dataframe tbody tr th:only-of-type {\n",
       "        vertical-align: middle;\n",
       "    }\n",
       "\n",
       "    .dataframe tbody tr th {\n",
       "        vertical-align: top;\n",
       "    }\n",
       "\n",
       "    .dataframe thead th {\n",
       "        text-align: right;\n",
       "    }\n",
       "</style>\n",
       "<table border=\"1\" class=\"dataframe\">\n",
       "  <thead>\n",
       "    <tr style=\"text-align: right;\">\n",
       "      <th></th>\n",
       "      <th></th>\n",
       "    </tr>\n",
       "  </thead>\n",
       "  <tbody>\n",
       "    <tr>\n",
       "      <th>Corpus Type</th>\n",
       "      <td>Corpus</td>\n",
       "    </tr>\n",
       "    <tr>\n",
       "      <th>Number of Documents</th>\n",
       "      <td>50000</td>\n",
       "    </tr>\n",
       "    <tr>\n",
       "      <th>Number of Total Words</th>\n",
       "      <td>970725</td>\n",
       "    </tr>\n",
       "    <tr>\n",
       "      <th>Size of Vocabulary</th>\n",
       "      <td>52248</td>\n",
       "    </tr>\n",
       "    <tr>\n",
       "      <th>mean Words per Document</th>\n",
       "      <td>19</td>\n",
       "    </tr>\n",
       "    <tr>\n",
       "      <th>min Words per Document</th>\n",
       "      <td>1</td>\n",
       "    </tr>\n",
       "    <tr>\n",
       "      <th>max Words per Document</th>\n",
       "      <td>68</td>\n",
       "    </tr>\n",
       "    <tr>\n",
       "      <th>metas</th>\n",
       "      <td>id, created_at, from_user_name, source, locati...</td>\n",
       "    </tr>\n",
       "  </tbody>\n",
       "</table>\n",
       "</div>"
      ],
      "text/plain": [
       "                                                                          \n",
       "Corpus Type                                                         Corpus\n",
       "Number of Documents                                                  50000\n",
       "Number of Total Words                                               970725\n",
       "Size of Vocabulary                                                   52248\n",
       "mean Words per Document                                                 19\n",
       "min Words per Document                                                   1\n",
       "max Words per Document                                                  68\n",
       "metas                    id, created_at, from_user_name, source, locati..."
      ]
     },
     "execution_count": 9,
     "metadata": {},
     "output_type": "execute_result"
    }
   ],
   "source": [
    "import pandas as pd\n",
    "corpus_df = Corpus.from_dataframe(pd.read_excel(path), col_doc='text')\n",
    "corpus_df.summary()"
   ]
  },
  {
   "cell_type": "code",
   "execution_count": 10,
   "id": "0dae157d-af75-424d-b3f4-8e7f8c8784b4",
   "metadata": {},
   "outputs": [
    {
     "data": {
      "text/plain": [
       "{'created_at': <SeriesMeta [Id: created_at dtype: datetime64[ns]]>,\n",
       " 'lang': <SeriesMeta [Id: lang dtype: category]>,\n",
       " 'source': <SeriesMeta [Id: source dtype: category]>,\n",
       " 'tweet_type': <SeriesMeta [Id: tweet_type dtype: category]>,\n",
       " 'id': <SeriesMeta [Id: id dtype: int64]>,\n",
       " 'location': <SeriesMeta [Id: location dtype: object]>,\n",
       " 'from_user_name': <SeriesMeta [Id: from_user_name dtype: object]>,\n",
       " 'retweet_count': <SeriesMeta [Id: retweet_count dtype: int64]>}"
      ]
     },
     "execution_count": 10,
     "metadata": {},
     "output_type": "execute_result"
    }
   ],
   "source": [
    "corpus.meta   # you'll have to define the datatypes when building the dataframe yourself."
   ]
  },
  {
   "cell_type": "markdown",
   "id": "44569bcb-d81d-4236-a5a0-fc6a65b3582f",
   "metadata": {
    "tags": []
   },
   "source": [
    "### 3. Slicing a Corpus"
   ]
  },
  {
   "cell_type": "code",
   "execution_count": 11,
   "id": "5e7dd944-5234-4a55-b2ca-74bee395bc0f",
   "metadata": {},
   "outputs": [
    {
     "data": {
      "text/plain": [
       "[NaN, 'Twitter for Android', 'Twitter Web App']\n",
       "Categories (122, object): [' rohingya Update', '101rafiki', 'Acast Podcasts', 'AdBlueNews', ..., 'twitter app marcel', 'world_news_eng', 'xael bot', 'Оwly']"
      ]
     },
     "execution_count": 11,
     "metadata": {},
     "output_type": "execute_result"
    }
   ],
   "source": [
    "# Let's look at the unique values of the meta 'source'.\n",
    "corpus.meta.get('source').series.unique()[:3]"
   ]
  },
  {
   "cell_type": "code",
   "execution_count": 12,
   "id": "d311e3a8-eb41-4453-987a-ee0055c923ae",
   "metadata": {},
   "outputs": [
    {
     "data": {
      "text/html": [
       "<div>\n",
       "<style scoped>\n",
       "    .dataframe tbody tr th:only-of-type {\n",
       "        vertical-align: middle;\n",
       "    }\n",
       "\n",
       "    .dataframe tbody tr th {\n",
       "        vertical-align: top;\n",
       "    }\n",
       "\n",
       "    .dataframe thead th {\n",
       "        text-align: right;\n",
       "    }\n",
       "</style>\n",
       "<table border=\"1\" class=\"dataframe\">\n",
       "  <thead>\n",
       "    <tr style=\"text-align: right;\">\n",
       "      <th></th>\n",
       "      <th></th>\n",
       "    </tr>\n",
       "  </thead>\n",
       "  <tbody>\n",
       "    <tr>\n",
       "      <th>Corpus Type</th>\n",
       "      <td>Corpus</td>\n",
       "    </tr>\n",
       "    <tr>\n",
       "      <th>Number of Documents</th>\n",
       "      <td>12734</td>\n",
       "    </tr>\n",
       "    <tr>\n",
       "      <th>Number of Total Words</th>\n",
       "      <td>244213</td>\n",
       "    </tr>\n",
       "    <tr>\n",
       "      <th>Size of Vocabulary</th>\n",
       "      <td>22327</td>\n",
       "    </tr>\n",
       "    <tr>\n",
       "      <th>mean Words per Document</th>\n",
       "      <td>19</td>\n",
       "    </tr>\n",
       "    <tr>\n",
       "      <th>min Words per Document</th>\n",
       "      <td>1</td>\n",
       "    </tr>\n",
       "    <tr>\n",
       "      <th>max Words per Document</th>\n",
       "      <td>60</td>\n",
       "    </tr>\n",
       "    <tr>\n",
       "      <th>metas</th>\n",
       "      <td>created_at, lang, source, tweet_type, id, loca...</td>\n",
       "    </tr>\n",
       "  </tbody>\n",
       "</table>\n",
       "</div>"
      ],
      "text/plain": [
       "                                                                          \n",
       "Corpus Type                                                         Corpus\n",
       "Number of Documents                                                  12734\n",
       "Number of Total Words                                               244213\n",
       "Size of Vocabulary                                                   22327\n",
       "mean Words per Document                                                 19\n",
       "min Words per Document                                                   1\n",
       "max Words per Document                                                  60\n",
       "metas                    created_at, lang, source, tweet_type, id, loca..."
      ]
     },
     "execution_count": 12,
     "metadata": {},
     "output_type": "execute_result"
    }
   ],
   "source": [
    "android = corpus.slicer.filter_by_item('source', 'Twitter for Android')\n",
    "android.summary()"
   ]
  },
  {
   "cell_type": "code",
   "execution_count": 13,
   "id": "26e0e5a8-76cb-44de-8f2a-e2dad4da86a5",
   "metadata": {},
   "outputs": [
    {
     "data": {
      "text/plain": [
       "0    12356\n",
       "1      130\n",
       "2       62\n",
       "3       40\n",
       "4       21\n",
       "Name: retweet_count, dtype: int64"
      ]
     },
     "execution_count": 13,
     "metadata": {},
     "output_type": "execute_result"
    }
   ],
   "source": [
    "# Let's look at the value counts of the meta 'retweet_count'\n",
    "android.meta.get('retweet_count').series.value_counts().iloc[:5]"
   ]
  },
  {
   "cell_type": "code",
   "execution_count": 14,
   "id": "f938635e-a898-44ee-bbec-191a9384c8c1",
   "metadata": {},
   "outputs": [
    {
     "data": {
      "text/html": [
       "<div>\n",
       "<style scoped>\n",
       "    .dataframe tbody tr th:only-of-type {\n",
       "        vertical-align: middle;\n",
       "    }\n",
       "\n",
       "    .dataframe tbody tr th {\n",
       "        vertical-align: top;\n",
       "    }\n",
       "\n",
       "    .dataframe thead th {\n",
       "        text-align: right;\n",
       "    }\n",
       "</style>\n",
       "<table border=\"1\" class=\"dataframe\">\n",
       "  <thead>\n",
       "    <tr style=\"text-align: right;\">\n",
       "      <th></th>\n",
       "      <th></th>\n",
       "    </tr>\n",
       "  </thead>\n",
       "  <tbody>\n",
       "    <tr>\n",
       "      <th>Corpus Type</th>\n",
       "      <td>Corpus</td>\n",
       "    </tr>\n",
       "    <tr>\n",
       "      <th>Number of Documents</th>\n",
       "      <td>94</td>\n",
       "    </tr>\n",
       "    <tr>\n",
       "      <th>Number of Total Words</th>\n",
       "      <td>1959</td>\n",
       "    </tr>\n",
       "    <tr>\n",
       "      <th>Size of Vocabulary</th>\n",
       "      <td>908</td>\n",
       "    </tr>\n",
       "    <tr>\n",
       "      <th>mean Words per Document</th>\n",
       "      <td>20</td>\n",
       "    </tr>\n",
       "    <tr>\n",
       "      <th>min Words per Document</th>\n",
       "      <td>5</td>\n",
       "    </tr>\n",
       "    <tr>\n",
       "      <th>max Words per Document</th>\n",
       "      <td>54</td>\n",
       "    </tr>\n",
       "    <tr>\n",
       "      <th>metas</th>\n",
       "      <td>created_at, lang, source, tweet_type, id, loca...</td>\n",
       "    </tr>\n",
       "  </tbody>\n",
       "</table>\n",
       "</div>"
      ],
      "text/plain": [
       "                                                                          \n",
       "Corpus Type                                                         Corpus\n",
       "Number of Documents                                                     94\n",
       "Number of Total Words                                                 1959\n",
       "Size of Vocabulary                                                     908\n",
       "mean Words per Document                                                 20\n",
       "min Words per Document                                                   5\n",
       "max Words per Document                                                  54\n",
       "metas                    created_at, lang, source, tweet_type, id, loca..."
      ]
     },
     "execution_count": 14,
     "metadata": {},
     "output_type": "execute_result"
    }
   ],
   "source": [
    "android_at_least_10_retweets = android.slicer.filter_by_range('retweet_count', min_=10)\n",
    "android_at_least_10_retweets.summary()"
   ]
  },
  {
   "cell_type": "code",
   "execution_count": 15,
   "id": "e59fa333-15cd-4f38-b24c-b968e2ab23e2",
   "metadata": {},
   "outputs": [
    {
     "data": {
      "text/plain": [
       "generator"
      ]
     },
     "execution_count": 15,
     "metadata": {},
     "output_type": "execute_result"
    }
   ],
   "source": [
    "# do a groupby of the corpus on the datetime meta 'created_at'\n",
    "groups = android_at_least_10_retweets.slicer.group_by('created_at', grouper=pd.Grouper(freq='1W'))\n",
    "type(groups) # groups is a generator (follows pandas convention)"
   ]
  },
  {
   "cell_type": "code",
   "execution_count": 16,
   "id": "a1e81e6a-5311-423f-a20b-247c14c4b96b",
   "metadata": {},
   "outputs": [
    {
     "data": {
      "text/plain": [
       "(54,\n",
       " (Timestamp('2021-03-07 00:00:00', freq='W-SUN'),\n",
       "  <juxtorpus.corpus.corpus.Corpus at 0x2ae8dba00>))"
      ]
     },
     "execution_count": 16,
     "metadata": {},
     "output_type": "execute_result"
    }
   ],
   "source": [
    "groups = list(groups)\n",
    "len(groups), groups[0]"
   ]
  },
  {
   "cell_type": "markdown",
   "id": "b09c28dd-8272-41d9-8fa2-09a092af97eb",
   "metadata": {},
   "source": [
    "### 4. Referencing parent corpus"
   ]
  },
  {
   "cell_type": "code",
   "execution_count": 17,
   "id": "a760126e-939c-42bc-8c73-f1c70180b0c6",
   "metadata": {},
   "outputs": [
    {
     "data": {
      "text/html": [
       "<div>\n",
       "<style scoped>\n",
       "    .dataframe tbody tr th:only-of-type {\n",
       "        vertical-align: middle;\n",
       "    }\n",
       "\n",
       "    .dataframe tbody tr th {\n",
       "        vertical-align: top;\n",
       "    }\n",
       "\n",
       "    .dataframe thead th {\n",
       "        text-align: right;\n",
       "    }\n",
       "</style>\n",
       "<table border=\"1\" class=\"dataframe\">\n",
       "  <thead>\n",
       "    <tr style=\"text-align: right;\">\n",
       "      <th></th>\n",
       "      <th></th>\n",
       "    </tr>\n",
       "  </thead>\n",
       "  <tbody>\n",
       "    <tr>\n",
       "      <th>Corpus Type</th>\n",
       "      <td>Corpus</td>\n",
       "    </tr>\n",
       "    <tr>\n",
       "      <th>Number of Documents</th>\n",
       "      <td>1</td>\n",
       "    </tr>\n",
       "    <tr>\n",
       "      <th>Number of Total Words</th>\n",
       "      <td>14</td>\n",
       "    </tr>\n",
       "    <tr>\n",
       "      <th>Size of Vocabulary</th>\n",
       "      <td>14</td>\n",
       "    </tr>\n",
       "    <tr>\n",
       "      <th>mean Words per Document</th>\n",
       "      <td>14</td>\n",
       "    </tr>\n",
       "    <tr>\n",
       "      <th>min Words per Document</th>\n",
       "      <td>14</td>\n",
       "    </tr>\n",
       "    <tr>\n",
       "      <th>max Words per Document</th>\n",
       "      <td>14</td>\n",
       "    </tr>\n",
       "    <tr>\n",
       "      <th>metas</th>\n",
       "      <td>created_at, lang, source, tweet_type, id, loca...</td>\n",
       "    </tr>\n",
       "  </tbody>\n",
       "</table>\n",
       "</div>"
      ],
      "text/plain": [
       "                                                                          \n",
       "Corpus Type                                                         Corpus\n",
       "Number of Documents                                                      1\n",
       "Number of Total Words                                                   14\n",
       "Size of Vocabulary                                                      14\n",
       "mean Words per Document                                                 14\n",
       "min Words per Document                                                  14\n",
       "max Words per Document                                                  14\n",
       "metas                    created_at, lang, source, tweet_type, id, loca..."
      ]
     },
     "execution_count": 17,
     "metadata": {},
     "output_type": "execute_result"
    }
   ],
   "source": [
    "subcorpus = groups[0][1]\n",
    "subcorpus.summary()"
   ]
  },
  {
   "cell_type": "code",
   "execution_count": 18,
   "id": "c7878540-4898-4b40-9fe9-6ddd23004041",
   "metadata": {},
   "outputs": [
    {
     "data": {
      "text/plain": [
       "'bitter-lattice'"
      ]
     },
     "execution_count": 18,
     "metadata": {},
     "output_type": "execute_result"
    }
   ],
   "source": [
    "subcorpus.parent.name"
   ]
  },
  {
   "cell_type": "code",
   "execution_count": 19,
   "id": "fa55cdd7-915e-47e1-a258-2b6fcc28d883",
   "metadata": {},
   "outputs": [
    {
     "data": {
      "text/plain": [
       "'custom name'"
      ]
     },
     "execution_count": 19,
     "metadata": {},
     "output_type": "execute_result"
    }
   ],
   "source": [
    "# subcorpus names are generated, you can rename them.\n",
    "subcorpus.name = 'custom name'\n",
    "subcorpus.name"
   ]
  },
  {
   "cell_type": "code",
   "execution_count": 21,
   "id": "553b776c-da76-4104-9750-7c68f4dcbcae",
   "metadata": {},
   "outputs": [
    {
     "data": {
      "text/plain": [
       "('vain-sphere', 'vain-sphere')"
      ]
     },
     "execution_count": 21,
     "metadata": {},
     "output_type": "execute_result"
    }
   ],
   "source": [
    "# you can also find the root corpus from the subcorpus.\n",
    "subcorpus.find_root().name, corpus.name"
   ]
  },
  {
   "cell_type": "markdown",
   "id": "af758aff-6b17-4be2-aad0-6bc6bc9c99ac",
   "metadata": {},
   "source": [
    "### 5. Let's put them in a Corpora"
   ]
  },
  {
   "cell_type": "code",
   "execution_count": 22,
   "id": "3c9f1170-66f3-4c95-88f6-3b19e9834136",
   "metadata": {},
   "outputs": [
    {
     "data": {
      "application/vnd.jupyter.widget-view+json": {
       "model_id": "5a59441c782949569d6fa53e0fcac13e",
       "version_major": 2,
       "version_minor": 0
      },
      "text/plain": [
       "HTML(value='<table border=\"1\" class=\"dataframe\">\\n  <thead>\\n    <tr style=\"text-align: right;\">\\n      <th>Co…"
      ]
     },
     "metadata": {},
     "output_type": "display_data"
    }
   ],
   "source": [
    "from juxtorpus.corpus import Corpora\n",
    "\n",
    "corpora = Corpora([corpus])\n",
    "for gid, subcorpus in groups:\n",
    "    corpora.add(subcorpus)\n",
    "    \n",
    "corpora.render()"
   ]
  },
  {
   "cell_type": "code",
   "execution_count": null,
   "id": "497c2022-646c-4c6b-8c0a-cd829e6633dc",
   "metadata": {},
   "outputs": [],
   "source": []
  }
 ],
 "metadata": {
  "kernelspec": {
   "display_name": "Python 3 (ipykernel)",
   "language": "python",
   "name": "python3"
  },
  "language_info": {
   "codemirror_mode": {
    "name": "ipython",
    "version": 3
   },
   "file_extension": ".py",
   "mimetype": "text/x-python",
   "name": "python",
   "nbconvert_exporter": "python",
   "pygments_lexer": "ipython3",
   "version": "3.9.16"
  }
 },
 "nbformat": 4,
 "nbformat_minor": 5
}
