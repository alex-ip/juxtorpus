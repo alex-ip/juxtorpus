{
 "cells": [
  {
   "cell_type": "markdown",
   "source": [
    "# Performance Benchmarks\n",
    "\n",
    "This notebook contains the benchmarks for performance improving choices made in this repository.\n",
    "\n",
    "2. spacy: `nlp.pipe` vs `nlp`.\n"
   ],
   "metadata": {
    "collapsed": false,
    "pycharm": {
     "name": "#%% md\n"
    }
   }
  },
  {
   "cell_type": "code",
   "execution_count": 1,
   "outputs": [
    {
     "data": {
      "text/plain": "1952"
     },
     "execution_count": 1,
     "metadata": {},
     "output_type": "execute_result"
    }
   ],
   "source": [
    "import os\n",
    "\n",
    "os.getpid()"
   ],
   "metadata": {
    "collapsed": false,
    "pycharm": {
     "name": "#%%\n"
    }
   }
  },
  {
   "cell_type": "markdown",
   "source": [
    "## Pandas accessor performance"
   ],
   "metadata": {
    "collapsed": false,
    "pycharm": {
     "name": "#%% md\n"
    }
   }
  },
  {
   "cell_type": "code",
   "execution_count": 2,
   "outputs": [],
   "source": [
    "import pandas as pd\n",
    "\n",
    "df = pd.read_csv(\"~/Downloads/Geolocated_places_climate_with_LGA_and_remoteness_with_text.csv\")"
   ],
   "metadata": {
    "collapsed": false,
    "pycharm": {
     "name": "#%%\n"
    }
   }
  },
  {
   "cell_type": "code",
   "execution_count": 3,
   "outputs": [
    {
     "name": "stdout",
     "output_type": "stream",
     "text": [
      "CPU times: user 164 ms, sys: 1.78 ms, total: 166 ms\n",
      "Wall time: 166 ms\n"
     ]
    }
   ],
   "source": [
    "%time for i in range(max(len(df), 100)): df['text'].iloc[i]  # average"
   ],
   "metadata": {
    "collapsed": false,
    "pycharm": {
     "name": "#%%\n"
    }
   }
  },
  {
   "cell_type": "code",
   "execution_count": 4,
   "outputs": [
    {
     "name": "stdout",
     "output_type": "stream",
     "text": [
      "CPU times: user 1.37 s, sys: 7.03 ms, total: 1.38 s\n",
      "Wall time: 1.38 s\n"
     ]
    }
   ],
   "source": [
    "%time for i in range(max(len(df), 100)): df.iloc[i]['text']  # slowest"
   ],
   "metadata": {
    "collapsed": false,
    "pycharm": {
     "name": "#%%\n"
    }
   }
  },
  {
   "cell_type": "code",
   "execution_count": 5,
   "outputs": [
    {
     "name": "stdout",
     "output_type": "stream",
     "text": [
      "CPU times: user 80.7 ms, sys: 1.38 ms, total: 82.1 ms\n",
      "Wall time: 81.4 ms\n"
     ]
    }
   ],
   "source": [
    "%time for i in range(max(len(df), 100)): df.at[i, 'text']  # fastest"
   ],
   "metadata": {
    "collapsed": false,
    "pycharm": {
     "name": "#%%\n"
    }
   }
  },
  {
   "cell_type": "code",
   "execution_count": null,
   "outputs": [],
   "source": [],
   "metadata": {
    "collapsed": false,
    "pycharm": {
     "name": "#%%\n"
    }
   }
  },
  {
   "cell_type": "markdown",
   "source": [
    "## nlp.pipe vs cached spacy docs.\n",
    "\n",
    "This will compare the difference between pre-computed vs cached.\n",
    "n = 10\n",
    "n = 100\n",
    "n = 1,000\n",
    "n = 10,000"
   ],
   "metadata": {
    "collapsed": false,
    "pycharm": {
     "name": "#%% md\n"
    }
   }
  },
  {
   "cell_type": "code",
   "execution_count": 6,
   "outputs": [
    {
     "data": {
      "text/plain": "'n = 50000'"
     },
     "execution_count": 6,
     "metadata": {},
     "output_type": "execute_result"
    }
   ],
   "source": [
    "import pandas as pd\n",
    "import spacy\n",
    "\n",
    "nlp = spacy.load('en_core_web_sm')\n",
    "\n",
    "\n",
    "def perform_operation_on(doc: spacy.tokens.Doc):\n",
    "    pass\n",
    "\n",
    "\n",
    "# n: int = 10_000\n",
    "n: int = 50_000\n",
    "df = pd.read_csv(\"~/Downloads/Geolocated_places_climate_with_LGA_and_remoteness_with_text.csv\", nrows=n)\n",
    "f\"n = {n}\""
   ],
   "metadata": {
    "collapsed": false,
    "pycharm": {
     "name": "#%%\n"
    }
   }
  },
  {
   "cell_type": "code",
   "execution_count": 7,
   "outputs": [
    {
     "name": "stdout",
     "output_type": "stream",
     "text": [
      "Caching spacy docs...Done. 21.758426666259766s elapsed.\n"
     ]
    }
   ],
   "source": [
    "from time import time\n",
    "s = time()\n",
    "print(\"Caching spacy docs...\", end='')\n",
    "df['doc'] = list(nlp.pipe(df.loc[:, 'text'], n_process=-1))\n",
    "print(f\"Done. {time() - s}s elapsed.\")"
   ],
   "metadata": {
    "collapsed": false,
    "pycharm": {
     "name": "#%%\n"
    }
   }
  },
  {
   "cell_type": "code",
   "execution_count": 8,
   "outputs": [
    {
     "name": "stdout",
     "output_type": "stream",
     "text": [
      "49.7 s ± 1.32 s per loop (mean ± std. dev. of 3 runs, 1 loop each)\n"
     ]
    }
   ],
   "source": [
    "%%timeit -r 3 -n 1\n",
    "for doc in nlp.pipe(df.loc[:n, 'text']):\n",
    "    perform_operation_on(doc)"
   ],
   "metadata": {
    "collapsed": false,
    "pycharm": {
     "name": "#%%\n"
    }
   }
  },
  {
   "cell_type": "code",
   "execution_count": 9,
   "outputs": [
    {
     "name": "stdout",
     "output_type": "stream",
     "text": [
      "81.6 ms ± 801 µs per loop (mean ± std. dev. of 3 runs, 1 loop each)\n"
     ]
    }
   ],
   "source": [
    "%%timeit -r 3 -n 1\n",
    "for i in range(n):\n",
    "    perform_operation_on(df.at[i, 'doc'])"
   ],
   "metadata": {
    "collapsed": false,
    "pycharm": {
     "name": "#%%\n"
    }
   }
  },
  {
   "cell_type": "code",
   "execution_count": 10,
   "outputs": [
    {
     "name": "stdout",
     "output_type": "stream",
     "text": [
      "4.54 ms ± 431 µs per loop (mean ± std. dev. of 3 runs, 1 loop each)\n"
     ]
    }
   ],
   "source": [
    "%%timeit -r 3 -n 1\n",
    "df.loc[:, 'doc'].apply(perform_operation_on)"
   ],
   "metadata": {
    "collapsed": false,
    "pycharm": {
     "name": "#%%\n"
    }
   }
  },
  {
   "cell_type": "code",
   "execution_count": 11,
   "outputs": [],
   "source": [
    "from tqdm import tqdm"
   ],
   "metadata": {
    "collapsed": false,
    "pycharm": {
     "name": "#%%\n"
    }
   }
  },
  {
   "cell_type": "code",
   "execution_count": 12,
   "outputs": [
    {
     "name": "stdout",
     "output_type": "stream",
     "text": [
      "50.7 s ± 575 ms per loop (mean ± std. dev. of 3 runs, 1 loop each)\n"
     ]
    }
   ],
   "source": [
    "%%timeit -r 3 -n 1\n",
    "for doc in nlp.pipe(df.loc[:n, 'text'], disable=[nlp.pipe_names]):\n",
    "    perform_operation_on(doc)"
   ],
   "metadata": {
    "collapsed": false,
    "pycharm": {
     "name": "#%%\n"
    }
   }
  },
  {
   "cell_type": "code",
   "execution_count": 13,
   "outputs": [
    {
     "name": "stdout",
     "output_type": "stream",
     "text": [
      "26.9 s ± 32.4 ms per loop (mean ± std. dev. of 3 runs, 1 loop each)\n"
     ]
    }
   ],
   "source": [
    "%%timeit -r 3 -n 1\n",
    "for doc in nlp.pipe(df.loc[:n, 'text'], n_process=-1):\n",
    "    perform_operation_on(doc)"
   ],
   "metadata": {
    "collapsed": false,
    "pycharm": {
     "name": "#%%\n"
    }
   }
  },
  {
   "cell_type": "code",
   "execution_count": 14,
   "outputs": [
    {
     "name": "stdout",
     "output_type": "stream",
     "text": [
      "27.1 s ± 167 ms per loop (mean ± std. dev. of 3 runs, 1 loop each)\n"
     ]
    }
   ],
   "source": [
    "%%timeit -r 3 -n 1\n",
    "for doc in nlp.pipe(df.loc[:n, 'text'], disable=[nlp.pipe_names], n_process=-1):\n",
    "    perform_operation_on(doc)"
   ],
   "metadata": {
    "collapsed": false,
    "pycharm": {
     "name": "#%%\n"
    }
   }
  },
  {
   "cell_type": "code",
   "execution_count": 15,
   "outputs": [
    {
     "name": "stdout",
     "output_type": "stream",
     "text": [
      "<TWEET> \"Merry Crisis\", \"You cannot eat money\", \"Coal bludger\", just some of the messages on show at the Solidarity Sit-Down outside Parliament House. The activists protesting over climate change inaction, they say is contributing to catastrophic bushfire conditions. @9NewsAdel <https://t.co/6qaEHbIXy5> </TWEET>\n",
      "\n"
     ]
    }
   ],
   "source": [
    "def stream(df: pd.DataFrame, col: str, n: int):\n",
    "    for i in range(min(n, len(df))):\n",
    "        yield df.at[i, col]\n",
    "\n",
    "for i in stream(df, 'text', n):\n",
    "    print(i); break"
   ],
   "metadata": {
    "collapsed": false,
    "pycharm": {
     "name": "#%%\n"
    }
   }
  },
  {
   "cell_type": "code",
   "execution_count": 16,
   "outputs": [
    {
     "name": "stdout",
     "output_type": "stream",
     "text": [
      "25.5 s ± 555 ms per loop (mean ± std. dev. of 3 runs, 1 loop each)\n"
     ]
    }
   ],
   "source": [
    "%%timeit -r 3 -n 1\n",
    "for doc in nlp.pipe(stream(df, 'text', n), disable=[nlp.pipe_names], n_process=-1):\n",
    "    perform_operation_on(doc)"
   ],
   "metadata": {
    "collapsed": false,
    "pycharm": {
     "name": "#%%\n"
    }
   }
  },
  {
   "cell_type": "code",
   "execution_count": 17,
   "outputs": [
    {
     "name": "stdout",
     "output_type": "stream",
     "text": [
      "24 s ± 100 ms per loop (mean ± std. dev. of 3 runs, 1 loop each)\n"
     ]
    }
   ],
   "source": [
    "%%timeit -r 3 -n 1\n",
    "for doc in nlp.pipe(stream(df, 'text', n), disable=[nlp.pipe_names], n_process=4):\n",
    "    perform_operation_on(doc)"
   ],
   "metadata": {
    "collapsed": false,
    "pycharm": {
     "name": "#%%\n"
    }
   }
  },
  {
   "cell_type": "code",
   "execution_count": 18,
   "outputs": [
    {
     "name": "stdout",
     "output_type": "stream",
     "text": [
      "23.7 s ± 70.6 ms per loop (mean ± std. dev. of 3 runs, 1 loop each)\n"
     ]
    }
   ],
   "source": [
    "%%timeit -r 3 -n 1\n",
    "for doc in nlp.pipe(stream(df, 'text', n), disable=[nlp.pipe_names], n_process=4, batch_size=200):\n",
    "    perform_operation_on(doc)"
   ],
   "metadata": {
    "collapsed": false,
    "pycharm": {
     "name": "#%%\n"
    }
   }
  },
  {
   "cell_type": "code",
   "execution_count": 19,
   "outputs": [
    {
     "name": "stdout",
     "output_type": "stream",
     "text": [
      "24 s ± 426 ms per loop (mean ± std. dev. of 3 runs, 1 loop each)\n"
     ]
    }
   ],
   "source": [
    "%%timeit -r 3 -n 1\n",
    "for doc in nlp.pipe(stream(df, 'text', n), disable=[nlp.pipe_names], n_process=4, batch_size=200):\n",
    "    continue"
   ],
   "metadata": {
    "collapsed": false,
    "pycharm": {
     "name": "#%%\n"
    }
   }
  },
  {
   "cell_type": "code",
   "execution_count": 20,
   "outputs": [],
   "source": [
    "nlp_disabled = spacy.load('en_core_web_sm', disable=['tok2vec', 'tagger', 'parser', 'attribute_ruler', 'lemmatizer', 'ner'])\n",
    "nlp_excluded = spacy.load('en_core_web_sm', exclude=['tok2vec', 'tagger', 'parser', 'attribute_ruler', 'lemmatizer', 'ner'])"
   ],
   "metadata": {
    "collapsed": false,
    "pycharm": {
     "name": "#%%\n"
    }
   }
  },
  {
   "cell_type": "code",
   "execution_count": 21,
   "outputs": [
    {
     "name": "stdout",
     "output_type": "stream",
     "text": [
      "12.9 s ± 188 ms per loop (mean ± std. dev. of 3 runs, 1 loop each)\n"
     ]
    }
   ],
   "source": [
    "%%timeit -r 3 -n 1\n",
    "for doc in nlp_disabled.pipe(stream(df, 'text', n), n_process=4):\n",
    "    continue"
   ],
   "metadata": {
    "collapsed": false,
    "pycharm": {
     "name": "#%%\n"
    }
   }
  },
  {
   "cell_type": "code",
   "execution_count": 22,
   "outputs": [
    {
     "name": "stdout",
     "output_type": "stream",
     "text": [
      "12.4 s ± 160 ms per loop (mean ± std. dev. of 3 runs, 1 loop each)\n"
     ]
    }
   ],
   "source": [
    "%%timeit -r 3 -n 1\n",
    "for doc in nlp_excluded.pipe(stream(df, 'text', n), n_process=4):\n",
    "    continue"
   ],
   "metadata": {
    "collapsed": false,
    "pycharm": {
     "name": "#%%\n"
    }
   }
  },
  {
   "cell_type": "code",
   "execution_count": 23,
   "outputs": [
    {
     "name": "stdout",
     "output_type": "stream",
     "text": [
      "12.8 s ± 87.6 ms per loop (mean ± std. dev. of 3 runs, 1 loop each)\n"
     ]
    }
   ],
   "source": [
    "%%timeit -r 3 -n 1\n",
    "for doc in nlp.pipe(stream(df, 'text', n), disable=['tok2vec', 'tagger', 'parser', 'attribute_ruler', 'lemmatizer', 'ner'], n_process=4):\n",
    "    continue"
   ],
   "metadata": {
    "collapsed": false,
    "pycharm": {
     "name": "#%%\n"
    }
   }
  },
  {
   "cell_type": "code",
   "execution_count": 24,
   "outputs": [
    {
     "name": "stdout",
     "output_type": "stream",
     "text": [
      "1.48 s ± 14.3 ms per loop (mean ± std. dev. of 3 runs, 1 loop each)\n"
     ]
    }
   ],
   "source": [
    "%%timeit -r 3 -n 1\n",
    "for doc in nlp.pipe(stream(df, 'text', n), disable=['tok2vec', 'tagger', 'parser', 'attribute_ruler', 'lemmatizer', 'ner']):\n",
    "    continue"
   ],
   "metadata": {
    "collapsed": false,
    "pycharm": {
     "name": "#%%\n"
    }
   }
  },
  {
   "cell_type": "code",
   "execution_count": 25,
   "outputs": [
    {
     "name": "stdout",
     "output_type": "stream",
     "text": [
      "1.35 s ± 14.6 ms per loop (mean ± std. dev. of 3 runs, 1 loop each)\n"
     ]
    }
   ],
   "source": [
    "%%timeit -r 3 -n 1\n",
    "for doc in nlp.pipe(df.loc[:n, 'text'], disable=['tok2vec', 'tagger', 'parser', 'attribute_ruler', 'lemmatizer', 'ner']): continue"
   ],
   "metadata": {
    "collapsed": false,
    "pycharm": {
     "name": "#%%\n"
    }
   }
  },
  {
   "cell_type": "code",
   "execution_count": 26,
   "outputs": [
    {
     "name": "stdout",
     "output_type": "stream",
     "text": [
      "52.7 s ± 392 ms per loop (mean ± std. dev. of 3 runs, 1 loop each)\n"
     ]
    }
   ],
   "source": [
    "%%timeit -r 3 -n 1\n",
    "for doc in nlp.pipe(df.loc[:n, 'text']): continue"
   ],
   "metadata": {
    "collapsed": false,
    "pycharm": {
     "name": "#%%\n"
    }
   }
  },
  {
   "cell_type": "code",
   "execution_count": 27,
   "outputs": [
    {
     "name": "stdout",
     "output_type": "stream",
     "text": [
      "24.4 s ± 419 ms per loop (mean ± std. dev. of 3 runs, 1 loop each)\n"
     ]
    }
   ],
   "source": [
    "%%timeit -r 3 -n 1\n",
    "for doc in nlp.pipe(df.loc[:n, 'text'], n_process=4): continue"
   ],
   "metadata": {
    "collapsed": false,
    "pycharm": {
     "name": "#%%\n"
    }
   }
  },
  {
   "cell_type": "code",
   "execution_count": 28,
   "outputs": [
    {
     "data": {
      "text/plain": "50000"
     },
     "execution_count": 28,
     "metadata": {},
     "output_type": "execute_result"
    }
   ],
   "source": [
    "len(df)"
   ],
   "metadata": {
    "collapsed": false,
    "pycharm": {
     "name": "#%%\n"
    }
   }
  },
  {
   "cell_type": "code",
   "execution_count": 29,
   "outputs": [
    {
     "data": {
      "text/plain": "16.229894"
     },
     "execution_count": 29,
     "metadata": {},
     "output_type": "execute_result"
    }
   ],
   "source": [
    "df.memory_usage(deep=True)['text']/1_000_000"
   ],
   "metadata": {
    "collapsed": false,
    "pycharm": {
     "name": "#%%\n"
    }
   }
  },
  {
   "cell_type": "markdown",
   "source": [
    "## pyarrow string dtype vs numpy objects"
   ],
   "metadata": {
    "collapsed": false,
    "pycharm": {
     "name": "#%% md\n"
    }
   }
  },
  {
   "cell_type": "code",
   "execution_count": 30,
   "outputs": [
    {
     "data": {
      "text/plain": "16230022"
     },
     "execution_count": 30,
     "metadata": {},
     "output_type": "execute_result"
    }
   ],
   "source": [
    "df['text'].memory_usage(deep=True)"
   ],
   "metadata": {
    "collapsed": false,
    "pycharm": {
     "name": "#%%\n"
    }
   }
  },
  {
   "cell_type": "code",
   "execution_count": 31,
   "outputs": [
    {
     "data": {
      "text/plain": "9122782"
     },
     "execution_count": 31,
     "metadata": {},
     "output_type": "execute_result"
    }
   ],
   "source": [
    "df['text'].astype(pd.StringDtype(storage='pyarrow')).memory_usage(deep=True)"
   ],
   "metadata": {
    "collapsed": false,
    "pycharm": {
     "name": "#%%\n"
    }
   }
  },
  {
   "cell_type": "code",
   "execution_count": 32,
   "outputs": [
    {
     "data": {
      "text/plain": "8800128"
     },
     "execution_count": 32,
     "metadata": {},
     "output_type": "execute_result"
    }
   ],
   "source": [
    "df['doc'].memory_usage(deep=True)"
   ],
   "metadata": {
    "collapsed": false,
    "pycharm": {
     "name": "#%%\n"
    }
   }
  },
  {
   "cell_type": "markdown",
   "source": [
    "# Count Uniques"
   ],
   "metadata": {
    "collapsed": false,
    "pycharm": {
     "name": "#%% md\n"
    }
   }
  },
  {
   "cell_type": "code",
   "execution_count": 40,
   "outputs": [
    {
     "name": "stdout",
     "output_type": "stream",
     "text": [
      "8\n"
     ]
    }
   ],
   "source": [
    "# Python implementation to count words in a trie\n",
    "\n",
    "# Alphabet size (# of symbols)\n",
    "from pickle import NONE\n",
    "\n",
    "ALPHABET_SIZE = 26\n",
    "\n",
    "# Trie node\n",
    "class TrieNode:\n",
    "\n",
    "    def __init__(self):\n",
    "        # isLeaf is true if the node represents\n",
    "        # end of a word\n",
    "        self.isLeaf = False\n",
    "        self.children = [None for i in range(ALPHABET_SIZE)]\n",
    "\n",
    "\n",
    "root = TrieNode()\n",
    "\n",
    "# If not present, inserts key into trie\n",
    "# If the key is prefix of trie node, just\n",
    "# marks leaf node\n",
    "def insert(key):\n",
    "\n",
    "    length = len(key)\n",
    "\n",
    "    pCrawl = root\n",
    "\n",
    "    for level in range(length):\n",
    "\n",
    "        index = ord(key[level]) - ord('a')\n",
    "        if (pCrawl.children[index] == None):\n",
    "            pCrawl.children[index] = TrieNode()\n",
    "\n",
    "        pCrawl = pCrawl.children[index]\n",
    "\n",
    "    # mark last node as leaf\n",
    "    pCrawl.isLeaf = True\n",
    "\n",
    "\n",
    "# Function to count number of words\n",
    "def wordCount(root):\n",
    "\n",
    "    result = 0\n",
    "\n",
    "    # Leaf denotes end of a word\n",
    "    if (root.isLeaf == True):\n",
    "        result += 1\n",
    "\n",
    "    for i in range(ALPHABET_SIZE):\n",
    "        if (root.children[i] != None):\n",
    "            result += wordCount(root.children[i])\n",
    "\n",
    "    return result\n",
    "\n",
    "# Driver Program\n",
    "\n",
    "# Input keys (use only 'a' through 'z'\n",
    "# and lower case)\n",
    "keys = [\"the\", \"a\", \"there\", \"answer\", \"any\", \"by\", \"bye\", \"their\"]\n",
    "\n",
    "root = TrieNode()\n",
    "\n",
    "# Construct Trie\n",
    "for i in range(len(keys)):\n",
    "    insert(keys[i])\n",
    "\n",
    "print(wordCount(root))"
   ],
   "metadata": {
    "collapsed": false,
    "pycharm": {
     "name": "#%%\n"
    }
   }
  },
  {
   "cell_type": "code",
   "execution_count": null,
   "outputs": [],
   "source": [
    "from tqdm import tqdm\n",
    "\n",
    "from spacy.matcher import Matcher\n",
    "\n",
    "is_alpha = Matcher(nlp.vocab)\n",
    "is_alpha.add(\"is_alpha\", patterns=[\n",
    "    [{\"IS_ALPHA\": True, \"IS_ASCII\": True}]\n",
    "])\n"
   ],
   "metadata": {
    "collapsed": false,
    "pycharm": {
     "name": "#%%\n"
    }
   }
  },
  {
   "cell_type": "code",
   "execution_count": 60,
   "outputs": [],
   "source": [
    "%load_ext memory_profiler"
   ],
   "metadata": {
    "collapsed": false,
    "pycharm": {
     "name": "#%%\n"
    }
   }
  },
  {
   "cell_type": "code",
   "execution_count": 61,
   "outputs": [
    {
     "name": "stderr",
     "output_type": "stream",
     "text": [
      "100%|██████████| 50000/50000 [00:04<00:00, 12087.52it/s]\n"
     ]
    },
    {
     "name": "stdout",
     "output_type": "stream",
     "text": [
      "peak memory: 3037.06 MiB, increment: 0.00 MiB\n"
     ]
    }
   ],
   "source": [
    "%%memit\n",
    "root = TrieNode()\n",
    "for doc in tqdm(df.loc[:, 'doc']):\n",
    "    _is_alpha_doc = is_alpha(doc)\n",
    "    for _, start, end in _is_alpha_doc:\n",
    "        x = doc[start:end].text.lower()\n",
    "        insert(x)\n",
    "\n",
    "wordCount(root)"
   ],
   "metadata": {
    "collapsed": false,
    "pycharm": {
     "name": "#%%\n"
    }
   }
  },
  {
   "cell_type": "code",
   "execution_count": 63,
   "outputs": [
    {
     "data": {
      "text/plain": "48"
     },
     "execution_count": 63,
     "metadata": {},
     "output_type": "execute_result"
    }
   ],
   "source": [
    "import sys\n",
    "sys.getsizeof(root)"
   ],
   "metadata": {
    "collapsed": false,
    "pycharm": {
     "name": "#%%\n"
    }
   }
  },
  {
   "cell_type": "code",
   "execution_count": 62,
   "outputs": [
    {
     "name": "stderr",
     "output_type": "stream",
     "text": [
      "100%|██████████| 50000/50000 [00:02<00:00, 18791.71it/s]"
     ]
    },
    {
     "name": "stdout",
     "output_type": "stream",
     "text": [
      "peak memory: 3015.31 MiB, increment: 0.05 MiB\n"
     ]
    },
    {
     "name": "stderr",
     "output_type": "stream",
     "text": [
      "\n"
     ]
    }
   ],
   "source": [
    "%%memit\n",
    "uniqs = set()\n",
    "for doc in tqdm(df.loc[:, 'doc']):\n",
    "    _is_alpha_doc = is_alpha(doc)\n",
    "    for _, start, end in _is_alpha_doc:\n",
    "        x = doc[start:end].text.lower()\n",
    "        uniqs.add(x)\n",
    "\n",
    "len(uniqs)"
   ],
   "metadata": {
    "collapsed": false,
    "pycharm": {
     "name": "#%%\n"
    }
   }
  },
  {
   "cell_type": "code",
   "execution_count": 65,
   "outputs": [
    {
     "data": {
      "text/plain": "2.097368"
     },
     "execution_count": 65,
     "metadata": {},
     "output_type": "execute_result"
    }
   ],
   "source": [
    "sys.getsizeof(uniqs)/1_000_000"
   ],
   "metadata": {
    "collapsed": false,
    "pycharm": {
     "name": "#%%\n"
    }
   }
  },
  {
   "cell_type": "code",
   "execution_count": 33,
   "outputs": [
    {
     "data": {
      "text/plain": "   year  month  day    lat_mid     lon_mid    screen_name      tweet_id  \\\n0  2019     11   29 -34.921620  138.598244    G_Westgarth  1.200000e+18   \n1  2019     12   30 -34.928770  138.599702  adelparklands  1.210000e+18   \n2  2020      1   29 -34.925639  138.600768     timklapdor  1.220000e+18   \n3  2020      1   30 -34.925639  138.600768     timklapdor  1.220000e+18   \n4  2020      2   19 -34.925639  138.600768     timklapdor  1.230000e+18   \n\n   retweet                                               text  \\\n0    False  <TWEET> \"Merry Crisis\", \"You cannot eat money\"...   \n1    False  <TWEET> #adelaideparklands #picoftheday \\nThe ...   \n2    False  <TWEET> Same academics who would have their su...   \n3    False  <TWEET> Care to explain @UniSuperNews? You're ...   \n4    False  <TWEET> FYI: the time for change is now. With ...   \n\n                     geometry     tweet_lga  lga_code_2020 lga_name_2020  \\\n0    c(138.598244, -34.92162)  Adelaide (C)        40070.0  Adelaide (C)   \n1    c(138.599702, -34.92877)  Adelaide (C)        40070.0  Adelaide (C)   \n2  c(138.6007685, -34.925639)  Adelaide (C)        40070.0  Adelaide (C)   \n3  c(138.6007685, -34.925639)  Adelaide (C)        40070.0  Adelaide (C)   \n4  c(138.6007685, -34.925639)  Adelaide (C)        40070.0  Adelaide (C)   \n\n   state_code_2016  state_name_2016                 remoteness  remote_level  \\\n0              4.0  South Australia  Major Cities of Australia           1.0   \n1              4.0  South Australia  Major Cities of Australia           1.0   \n2              4.0  South Australia  Major Cities of Australia           1.0   \n3              4.0  South Australia  Major Cities of Australia           1.0   \n4              4.0  South Australia  Major Cities of Australia           1.0   \n\n                                                 doc  \n0  (<, TWEET, >, \", Merry, Crisis, \", ,, \", You, ...  \n1  (<, TWEET, >, #, adelaideparklands,  , #, pico...  \n2  (<, TWEET, >, Same, academics, who, would, hav...  \n3  (<, TWEET, >, Care, to, explain, @UniSuperNews...  \n4  (<, TWEET, >, FYI, :, the, time, for, change, ...  ",
      "text/html": "<div>\n<style scoped>\n    .dataframe tbody tr th:only-of-type {\n        vertical-align: middle;\n    }\n\n    .dataframe tbody tr th {\n        vertical-align: top;\n    }\n\n    .dataframe thead th {\n        text-align: right;\n    }\n</style>\n<table border=\"1\" class=\"dataframe\">\n  <thead>\n    <tr style=\"text-align: right;\">\n      <th></th>\n      <th>year</th>\n      <th>month</th>\n      <th>day</th>\n      <th>lat_mid</th>\n      <th>lon_mid</th>\n      <th>screen_name</th>\n      <th>tweet_id</th>\n      <th>retweet</th>\n      <th>text</th>\n      <th>geometry</th>\n      <th>tweet_lga</th>\n      <th>lga_code_2020</th>\n      <th>lga_name_2020</th>\n      <th>state_code_2016</th>\n      <th>state_name_2016</th>\n      <th>remoteness</th>\n      <th>remote_level</th>\n      <th>doc</th>\n    </tr>\n  </thead>\n  <tbody>\n    <tr>\n      <th>0</th>\n      <td>2019</td>\n      <td>11</td>\n      <td>29</td>\n      <td>-34.921620</td>\n      <td>138.598244</td>\n      <td>G_Westgarth</td>\n      <td>1.200000e+18</td>\n      <td>False</td>\n      <td>&lt;TWEET&gt; \"Merry Crisis\", \"You cannot eat money\"...</td>\n      <td>c(138.598244, -34.92162)</td>\n      <td>Adelaide (C)</td>\n      <td>40070.0</td>\n      <td>Adelaide (C)</td>\n      <td>4.0</td>\n      <td>South Australia</td>\n      <td>Major Cities of Australia</td>\n      <td>1.0</td>\n      <td>(&lt;, TWEET, &gt;, \", Merry, Crisis, \", ,, \", You, ...</td>\n    </tr>\n    <tr>\n      <th>1</th>\n      <td>2019</td>\n      <td>12</td>\n      <td>30</td>\n      <td>-34.928770</td>\n      <td>138.599702</td>\n      <td>adelparklands</td>\n      <td>1.210000e+18</td>\n      <td>False</td>\n      <td>&lt;TWEET&gt; #adelaideparklands #picoftheday \\nThe ...</td>\n      <td>c(138.599702, -34.92877)</td>\n      <td>Adelaide (C)</td>\n      <td>40070.0</td>\n      <td>Adelaide (C)</td>\n      <td>4.0</td>\n      <td>South Australia</td>\n      <td>Major Cities of Australia</td>\n      <td>1.0</td>\n      <td>(&lt;, TWEET, &gt;, #, adelaideparklands,  , #, pico...</td>\n    </tr>\n    <tr>\n      <th>2</th>\n      <td>2020</td>\n      <td>1</td>\n      <td>29</td>\n      <td>-34.925639</td>\n      <td>138.600768</td>\n      <td>timklapdor</td>\n      <td>1.220000e+18</td>\n      <td>False</td>\n      <td>&lt;TWEET&gt; Same academics who would have their su...</td>\n      <td>c(138.6007685, -34.925639)</td>\n      <td>Adelaide (C)</td>\n      <td>40070.0</td>\n      <td>Adelaide (C)</td>\n      <td>4.0</td>\n      <td>South Australia</td>\n      <td>Major Cities of Australia</td>\n      <td>1.0</td>\n      <td>(&lt;, TWEET, &gt;, Same, academics, who, would, hav...</td>\n    </tr>\n    <tr>\n      <th>3</th>\n      <td>2020</td>\n      <td>1</td>\n      <td>30</td>\n      <td>-34.925639</td>\n      <td>138.600768</td>\n      <td>timklapdor</td>\n      <td>1.220000e+18</td>\n      <td>False</td>\n      <td>&lt;TWEET&gt; Care to explain @UniSuperNews? You're ...</td>\n      <td>c(138.6007685, -34.925639)</td>\n      <td>Adelaide (C)</td>\n      <td>40070.0</td>\n      <td>Adelaide (C)</td>\n      <td>4.0</td>\n      <td>South Australia</td>\n      <td>Major Cities of Australia</td>\n      <td>1.0</td>\n      <td>(&lt;, TWEET, &gt;, Care, to, explain, @UniSuperNews...</td>\n    </tr>\n    <tr>\n      <th>4</th>\n      <td>2020</td>\n      <td>2</td>\n      <td>19</td>\n      <td>-34.925639</td>\n      <td>138.600768</td>\n      <td>timklapdor</td>\n      <td>1.230000e+18</td>\n      <td>False</td>\n      <td>&lt;TWEET&gt; FYI: the time for change is now. With ...</td>\n      <td>c(138.6007685, -34.925639)</td>\n      <td>Adelaide (C)</td>\n      <td>40070.0</td>\n      <td>Adelaide (C)</td>\n      <td>4.0</td>\n      <td>South Australia</td>\n      <td>Major Cities of Australia</td>\n      <td>1.0</td>\n      <td>(&lt;, TWEET, &gt;, FYI, :, the, time, for, change, ...</td>\n    </tr>\n  </tbody>\n</table>\n</div>"
     },
     "execution_count": 33,
     "metadata": {},
     "output_type": "execute_result"
    }
   ],
   "source": [
    "df.head()"
   ],
   "metadata": {
    "collapsed": false,
    "pycharm": {
     "name": "#%%\n"
    }
   }
  },
  {
   "cell_type": "code",
   "execution_count": 34,
   "outputs": [
    {
     "data": {
      "text/plain": "1952"
     },
     "execution_count": 34,
     "metadata": {},
     "output_type": "execute_result"
    }
   ],
   "source": [
    "import os\n",
    "os.getpid()"
   ],
   "metadata": {
    "collapsed": false,
    "pycharm": {
     "name": "#%%\n"
    }
   }
  },
  {
   "cell_type": "code",
   "execution_count": 8,
   "outputs": [],
   "source": [
    "hashtags = (\"#tag1\", \"#tag2\", \"#tag3\", \"#tag4\")\n",
    "import re\n",
    "pattern = re.compile(r'#tag4')"
   ],
   "metadata": {
    "collapsed": false,
    "pycharm": {
     "name": "#%%\n"
    }
   }
  },
  {
   "cell_type": "code",
   "execution_count": 9,
   "outputs": [
    {
     "name": "stdout",
     "output_type": "stream",
     "text": [
      "52.7 ns ± 0.578 ns per loop (mean ± std. dev. of 7 runs, 10,000,000 loops each)\n"
     ]
    }
   ],
   "source": [
    "%timeit '#tag4' in hashtags"
   ],
   "metadata": {
    "collapsed": false,
    "pycharm": {
     "name": "#%%\n"
    }
   }
  },
  {
   "cell_type": "code",
   "execution_count": 10,
   "outputs": [
    {
     "name": "stdout",
     "output_type": "stream",
     "text": [
      "536 ns ± 2.43 ns per loop (mean ± std. dev. of 7 runs, 1,000,000 loops each)\n"
     ]
    }
   ],
   "source": [
    "%timeit [pattern.match(ht) for ht in hashtags]"
   ],
   "metadata": {
    "collapsed": false,
    "pycharm": {
     "name": "#%%\n"
    }
   }
  },
  {
   "cell_type": "markdown",
   "source": [
    "## Benchmarking equals vs in"
   ],
   "metadata": {
    "collapsed": false,
    "pycharm": {
     "name": "#%% md\n"
    }
   }
  },
  {
   "cell_type": "code",
   "execution_count": 17,
   "outputs": [],
   "source": [
    "import pandas as pd\n",
    "ht_series: pd.Series = pd.Series(hashtags, name='hashtags')"
   ],
   "metadata": {
    "collapsed": false,
    "pycharm": {
     "name": "#%%\n"
    }
   }
  },
  {
   "cell_type": "code",
   "execution_count": 18,
   "outputs": [
    {
     "name": "stdout",
     "output_type": "stream",
     "text": [
      "93.9 µs ± 915 ns per loop (mean ± std. dev. of 7 runs, 10,000 loops each)\n"
     ]
    }
   ],
   "source": [
    "%timeit ht_series.apply(lambda x: x == '#tag1') | ht_series.apply(lambda x: x == '#tag2')"
   ],
   "metadata": {
    "collapsed": false,
    "pycharm": {
     "name": "#%%\n"
    }
   }
  },
  {
   "cell_type": "code",
   "execution_count": 19,
   "outputs": [
    {
     "name": "stdout",
     "output_type": "stream",
     "text": [
      "33.3 µs ± 1.33 µs per loop (mean ± std. dev. of 7 runs, 10,000 loops each)\n"
     ]
    }
   ],
   "source": [
    "%timeit ht_series.apply(lambda x: x in ('#tag1', '#tag2'))"
   ],
   "metadata": {
    "collapsed": false,
    "pycharm": {
     "name": "#%%\n"
    }
   }
  },
  {
   "cell_type": "code",
   "execution_count": 20,
   "outputs": [
    {
     "name": "stdout",
     "output_type": "stream",
     "text": [
      "33.5 µs ± 2.97 µs per loop (mean ± std. dev. of 7 runs, 10,000 loops each)\n"
     ]
    }
   ],
   "source": [
    "%timeit ht_series.apply(lambda x: x == '#tag1')"
   ],
   "metadata": {
    "collapsed": false,
    "pycharm": {
     "name": "#%%\n"
    }
   }
  },
  {
   "cell_type": "code",
   "execution_count": 21,
   "outputs": [
    {
     "name": "stdout",
     "output_type": "stream",
     "text": [
      "32 µs ± 92.2 ns per loop (mean ± std. dev. of 7 runs, 10,000 loops each)\n"
     ]
    }
   ],
   "source": [
    "%timeit ht_series.apply(lambda x: x in ('#tag1'))"
   ],
   "metadata": {
    "collapsed": false,
    "pycharm": {
     "name": "#%%\n"
    }
   }
  },
  {
   "cell_type": "markdown",
   "source": [
    "Conclusion:\n",
    "`in` is always going to be faster (most likely because of overhead in vectorising multiple times)\n",
    "The difference is signficant enough ~3x.\n",
    "`in` should be used for OR operations.\n",
    "\n",
    "with AND operations, i guess"
   ],
   "metadata": {
    "collapsed": false,
    "pycharm": {
     "name": "#%% md\n"
    }
   }
  },
  {
   "cell_type": "markdown",
   "source": [],
   "metadata": {
    "collapsed": false,
    "pycharm": {
     "name": "#%% md\n"
    }
   }
  }
 ],
 "metadata": {
  "kernelspec": {
   "display_name": "Python 3",
   "language": "python",
   "name": "python3"
  },
  "language_info": {
   "codemirror_mode": {
    "name": "ipython",
    "version": 2
   },
   "file_extension": ".py",
   "mimetype": "text/x-python",
   "name": "python",
   "nbconvert_exporter": "python",
   "pygments_lexer": "ipython2",
   "version": "2.7.6"
  }
 },
 "nbformat": 4,
 "nbformat_minor": 0
}
